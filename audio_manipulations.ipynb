{
  "nbformat": 4,
  "nbformat_minor": 0,
  "metadata": {
    "colab": {
      "name": "audio manipulations.ipynb",
      "provenance": [],
      "authorship_tag": "ABX9TyNVedgZSLghZy80jyBDqpxn",
      "include_colab_link": true
    },
    "kernelspec": {
      "name": "python3",
      "display_name": "Python 3"
    }
  },
  "cells": [
    {
      "cell_type": "markdown",
      "metadata": {
        "id": "view-in-github",
        "colab_type": "text"
      },
      "source": [
        "<a href=\"https://colab.research.google.com/github/tal3898/AudioCorruptor/blob/main/audio_manipulations.ipynb\" target=\"_parent\"><img src=\"https://colab.research.google.com/assets/colab-badge.svg\" alt=\"Open In Colab\"/></a>"
      ]
    },
    {
      "cell_type": "code",
      "metadata": {
        "colab": {
          "base_uri": "https://localhost:8080/"
        },
        "id": "F0h-XBK2dqcr",
        "outputId": "f635f5fe-0380-40e1-ac06-701eda86d9c2"
      },
      "source": [
        "pip install pydub"
      ],
      "execution_count": 2,
      "outputs": [
        {
          "output_type": "stream",
          "text": [
            "Requirement already satisfied: pydub in /usr/local/lib/python3.6/dist-packages (0.24.1)\n"
          ],
          "name": "stdout"
        }
      ]
    },
    {
      "cell_type": "code",
      "metadata": {
        "id": "9R2q6YP6dYgt"
      },
      "source": [
        "import urllib.request\r\n",
        "from pydub import AudioSegment\r\n",
        "from pydub.playback import play\r\n",
        "# Download an audio file\r\n",
        "urllib.request.urlretrieve(\"https://tinyurl.com/wx9amev\", \"metallic-drums.wav\")\r\n",
        "# Load into PyDub\r\n",
        "loop = AudioSegment.from_wav(\"metallic-drums.wav\")\r\n",
        "# Play the result\r\n",
        "play(loop)"
      ],
      "execution_count": 3,
      "outputs": []
    },
    {
      "cell_type": "code",
      "metadata": {
        "colab": {
          "base_uri": "https://localhost:8080/"
        },
        "id": "idLCQmlZA95n",
        "outputId": "fae82ab1-e8a0-4cdb-df59-41c7d68ba144"
      },
      "source": [
        "# Creating the empty audio which with it we corrupt the audio\r\n",
        "zeroBit = AudioSegment.from_mp3(\"zero_bit_dd.mp3\")\r\n",
        "print(zeroBit)\r\n",
        "oneZeroBit = zeroBit[0]\r\n",
        "print (oneZeroBit)\r\n",
        "\r\n"
      ],
      "execution_count": 9,
      "outputs": [
        {
          "output_type": "stream",
          "text": [
            "<pydub.audio_segment.AudioSegment object at 0x7f526ed732e8>\n",
            "<pydub.audio_segment.AudioSegment object at 0x7f526f65c0f0>\n"
          ],
          "name": "stdout"
        }
      ]
    },
    {
      "cell_type": "code",
      "metadata": {
        "colab": {
          "base_uri": "https://localhost:8080/"
        },
        "id": "TvVldIWGdnpC",
        "outputId": "c21b80f6-6e9b-41c5-d6a4-33c70b2927bc"
      },
      "source": [
        "print(len(loop))"
      ],
      "execution_count": 4,
      "outputs": [
        {
          "output_type": "stream",
          "text": [
            "1999\n"
          ],
          "name": "stdout"
        }
      ]
    },
    {
      "cell_type": "code",
      "metadata": {
        "colab": {
          "base_uri": "https://localhost:8080/"
        },
        "id": "cQovtZ-tBqvU",
        "outputId": "0634ab8e-bd5f-4a6e-85ac-8c08d7ec036f"
      },
      "source": [
        "# good example of corrupting audio file\r\n",
        "print(len(loop))\r\n",
        "final = loop[:1000] + oneZeroBit * 100 + loop[-900:]\r\n",
        "print(len(final))\r\n",
        "final.export(\"final.mp3\", format=\"mp3\")"
      ],
      "execution_count": 15,
      "outputs": [
        {
          "output_type": "stream",
          "text": [
            "1999\n",
            "2099\n"
          ],
          "name": "stdout"
        },
        {
          "output_type": "execute_result",
          "data": {
            "text/plain": [
              "<_io.BufferedRandom name='final.mp3'>"
            ]
          },
          "metadata": {
            "tags": []
          },
          "execution_count": 15
        }
      ]
    },
    {
      "cell_type": "code",
      "metadata": {
        "id": "9QlcDLkbCgBc"
      },
      "source": [
        "def currputAudio(audio, fromIndex, duration):\r\n",
        "  numberOfBitsInEnd = len(audio) - duration - fromIndex\r\n",
        "  corrupted = audio[:fromIndex] + oneZeroBit * duration + audio[-numberOfBitsInEnd:]\r\n",
        "  return corrupted\r\n",
        "\r\n"
      ],
      "execution_count": 25,
      "outputs": []
    },
    {
      "cell_type": "code",
      "metadata": {
        "colab": {
          "base_uri": "https://localhost:8080/"
        },
        "id": "AFSkkqtzFXD-",
        "outputId": "80008e0f-f365-43a1-c6f2-6eae50ff839d"
      },
      "source": [
        "final = currputAudio(loop, 1000,500)\r\n",
        "final.export(\"final.mp3\", format=\"mp3\")"
      ],
      "execution_count": 29,
      "outputs": [
        {
          "output_type": "execute_result",
          "data": {
            "text/plain": [
              "<_io.BufferedRandom name='final.mp3'>"
            ]
          },
          "metadata": {
            "tags": []
          },
          "execution_count": 29
        }
      ]
    }
  ]
}